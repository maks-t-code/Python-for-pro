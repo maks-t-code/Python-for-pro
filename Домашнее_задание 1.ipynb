{
 "cells": [
  {
   "cell_type": "markdown",
   "metadata": {
    "id": "JUpV4JJRVjH4"
   },
   "source": [
    "# Домашнее задание № 1"
   ]
  },
  {
   "cell_type": "markdown",
   "metadata": {
    "id": "kbJt8TyMujxo"
   },
   "source": [
    "### Задание 1: Кодировщик Цезаря\n",
    "\n",
    "\n",
    "Описание:\n",
    "\n",
    "Напишите функцию, которая реализует кодирование строки шифром Цезаря.\n",
    "\n",
    "In:\n",
    "* строка\n",
    "* размер сдвига\n",
    "\n",
    "Out:\n",
    "* зашифрованная строка\n",
    "\n",
    "Ограничения: строка содержит только буквы русского алфавита"
   ]
  },
  {
   "cell_type": "code",
   "execution_count": null,
   "metadata": {
    "id": "oZgX9GMrugmO"
   },
   "outputs": [],
   "source": [
    "letters=['А','Б','В','Г','Д','Е','Ж','З','И','Й',\n",
    "         'К','Л','М','Н','О','П','Р','С','Т','У',\n",
    "         'Ф','Х','Ц','Ч','Ш','Щ','Ъ','Ы','Ь','Э',\n",
    "         'Ю', 'Я']"
   ]
  },
  {
   "cell_type": "code",
   "execution_count": 33,
   "metadata": {
    "id": "jfpNgDEGVjH7"
   },
   "outputs": [
    {
     "name": "stdout",
     "output_type": "stream",
     "text": [
      "Зашифрованная строка: ФХНЗКЧ СНХ\n"
     ]
    }
   ],
   "source": [
    "# Ваш код\n",
    "\n",
    "# Функция возвращает зашифрованную строку\n",
    "def encryption(message, shift_size):\n",
    "    letters=['А','Б','В','Г','Д','Е','Ж','З','И','Й',\n",
    "         'К','Л','М','Н','О','П','Р','С','Т','У',\n",
    "         'Ф','Х','Ц','Ч','Ш','Щ','Ъ','Ы','Ь','Э',\n",
    "         'Ю', 'Я']\n",
    "    result = ''\n",
    "    for s in message:\n",
    "        if s in letters:\n",
    "            result += letters[(shift_size + letters.index(s)) % len(letters)]\n",
    "        else:\n",
    "            result += s\n",
    "    return result\n",
    "\n",
    "message = input(\"Введите строку для шифрования:\").upper()\n",
    "shift = int(input(\"Введите размер сдвига:\"))\n",
    "encryption_string = encryption(message, shift)\n",
    "print(\"Зашифрованная строка:\", encryption_string)\n",
    "    "
   ]
  },
  {
   "cell_type": "markdown",
   "metadata": {
    "id": "7OjM3A7Ou7HR"
   },
   "source": [
    "### Задание 2: Дешифровщик Цезаря\n",
    "\n",
    "Описание:\n",
    "\n",
    "Напишите функцию, которая реализует декодирование строки, зашифрованной шифром Цезаря.\n",
    "\n",
    "In:\n",
    "* зашифрованная строка\n",
    "\n",
    "Out:\n",
    "* список кортежей (сдвиг, результат дешифровки)\n",
    "\n",
    "Ограничения: метод дешифрования - brute force =)"
   ]
  },
  {
   "cell_type": "code",
   "execution_count": 35,
   "metadata": {
    "id": "c9LrLZKBusJ1"
   },
   "outputs": [
    {
     "name": "stdout",
     "output_type": "stream",
     "text": [
      "Результат дешифровки:\n",
      "[(1, 'УФМЖЙЦ РМФ'), (2, 'ТУЛЕИХ ПЛУ'), (3, 'СТКДЗФ ОКТ'), (4, 'РСЙГЖУ НЙС'), (5, 'ПРИВЕТ МИР'), (6, 'ОПЗБДС ЛЗП'), (7, 'НОЖАГР КЖО'), (8, 'МНЕЯВП ЙЕН'), (9, 'ЛМДЮБО ИДМ'), (10, 'КЛГЭАН ЗГЛ'), (11, 'ЙКВЬЯМ ЖВК'), (12, 'ИЙБЫЮЛ ЕБЙ'), (13, 'ЗИАЪЭК ДАИ'), (14, 'ЖЗЯЩЬЙ ГЯЗ'), (15, 'ЕЖЮШЫИ ВЮЖ'), (16, 'ДЕЭЧЪЗ БЭЕ'), (17, 'ГДЬЦЩЖ АЬД'), (18, 'ВГЫХШЕ ЯЫГ'), (19, 'БВЪФЧД ЮЪВ'), (20, 'АБЩУЦГ ЭЩБ'), (21, 'ЯАШТХВ ЬША'), (22, 'ЮЯЧСФБ ЫЧЯ'), (23, 'ЭЮЦРУА ЪЦЮ'), (24, 'ЬЭХПТЯ ЩХЭ'), (25, 'ЫЬФОСЮ ШФЬ'), (26, 'ЪЫУНРЭ ЧУЫ'), (27, 'ЩЪТМПЬ ЦТЪ'), (28, 'ШЩСЛОЫ ХСЩ'), (29, 'ЧШРКНЪ ФРШ'), (30, 'ЦЧПЙМЩ УПЧ'), (31, 'ХЦОИЛШ ТОЦ')]\n"
     ]
    }
   ],
   "source": [
    "# Ваш код\n",
    "\n",
    "# Функция возвращает список кортежей (сдвиг, результат дешифровки)\n",
    "def decryption(message):\n",
    "    letters=['А','Б','В','Г','Д','Е','Ж','З','И','Й',\n",
    "         'К','Л','М','Н','О','П','Р','С','Т','У',\n",
    "         'Ф','Х','Ц','Ч','Ш','Щ','Ъ','Ы','Ь','Э',\n",
    "         'Ю', 'Я']\n",
    "    shift = 0                       # Смещение по алфавиту\n",
    "    shift_key = 0                   # Сдвиг\n",
    "    result_letter = ''              # Буква, получившаяся в результате дешифровки\n",
    "    list_result_phrase = list()     # Фраза, получившаяся в результате дешифровки\n",
    "    decryption_result = list()      # Результат дешифровки - список кортежей (сдвиг, результат дешифровки)\n",
    "    while shift > 1 - len(letters):\n",
    "        shift -= 1                  # Т.к дешифровка, то идем влево по алфавиту и смещение будет отрицательным\n",
    "        shift_key += 1\n",
    "        for s in message:\n",
    "            if s in letters:\n",
    "                result_letter += letters[(shift + letters.index(s)) % len(letters)]\n",
    "            else:\n",
    "                result_letter += s\n",
    "\n",
    "        list_result_phrase.append(result_letter)\n",
    "        list_result_phrase.insert(0, shift_key)\n",
    "        tuple_result = tuple(list_result_phrase)        # Создание кортежа из сдвига и результата дешифровки\n",
    "        decryption_result.append(tuple_result)\n",
    "        result_letter = ''\n",
    "        list_result_phrase.clear()\n",
    "    return decryption_result\n",
    "\n",
    "\n",
    "decryption_message = decryption(encryption_string)\n",
    "print(\"Результат дешифровки:\")\n",
    "print(decryption_message)\n"
   ]
  }
 ],
 "metadata": {
  "colab": {
   "provenance": []
  },
  "kernelspec": {
   "display_name": ".venv",
   "language": "python",
   "name": "python3"
  },
  "language_info": {
   "codemirror_mode": {
    "name": "ipython",
    "version": 3
   },
   "file_extension": ".py",
   "mimetype": "text/x-python",
   "name": "python",
   "nbconvert_exporter": "python",
   "pygments_lexer": "ipython3",
   "version": "3.13.2"
  }
 },
 "nbformat": 4,
 "nbformat_minor": 0
}
